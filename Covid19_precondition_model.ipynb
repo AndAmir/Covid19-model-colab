{
  "nbformat": 4,
  "nbformat_minor": 0,
  "metadata": {
    "colab": {
      "name": "Covid19 precondition model",
      "provenance": [],
      "collapsed_sections": [],
      "authorship_tag": "ABX9TyOU9fmt+1O9jK/vSJw0V17e",
      "include_colab_link": true
    },
    "kernelspec": {
      "name": "python3",
      "display_name": "Python 3"
    }
  },
  "cells": [
    {
      "cell_type": "markdown",
      "metadata": {
        "id": "view-in-github",
        "colab_type": "text"
      },
      "source": [
        "<a href=\"https://colab.research.google.com/github/AndAmir/Covid19-model-colab/blob/master/Covid19_precondition_model.ipynb\" target=\"_parent\"><img src=\"https://colab.research.google.com/assets/colab-badge.svg\" alt=\"Open In Colab\"/></a>"
      ]
    },
    {
      "cell_type": "code",
      "metadata": {
        "id": "555R5idovO-j",
        "colab_type": "code",
        "colab": {}
      },
      "source": [
        "#!pip install tensorflow-gpu\n",
        "#!pip install mlxtend==0.17.0"
      ],
      "execution_count": 19,
      "outputs": []
    },
    {
      "cell_type": "code",
      "metadata": {
        "id": "yBq_JYcHLYOo",
        "colab_type": "code",
        "colab": {}
      },
      "source": [
        "import tensorflow as tf\n",
        "import pandas as pd\n",
        "import datetime as dt\n",
        "import numpy as np\n",
        "\n",
        "from tensorflow import feature_column\n",
        "from tensorflow.keras import layers\n",
        "from sklearn.model_selection import train_test_split"
      ],
      "execution_count": 20,
      "outputs": []
    },
    {
      "cell_type": "code",
      "metadata": {
        "id": "b0hy96H1LXRy",
        "colab_type": "code",
        "colab": {
          "base_uri": "https://localhost:8080/",
          "height": 72
        },
        "outputId": "0123ad33-dd6b-467a-841c-d449faefd555"
      },
      "source": [
        "'''\n",
        "df = pd.read_csv(\"/content/covid.csv\")\n",
        "df = df[df.icu != 97.0]\n",
        "df.insert(6,\"symptomEntry_Delta\",0)\n",
        "\n",
        "df.reset_index(drop=True)\n",
        "for a, b, i in zip(df.date_symptoms, df.entry_date,range(121913)):\n",
        "  a = dt.date(2020, int(b[3:5]),int(b[:2])) - dt.date(2020, int(a[3:5]),int(a[:2]))\n",
        "  df.iloc[i,df.columns.get_loc('symptomEntry_Delta')] = a.days\n",
        "df.pop('id')\n",
        "\n",
        "df['icu'].value_counts()\n",
        "df = df[df.icu != 99.0]\n",
        "df.reset_index(drop=True)\n",
        "df.to_csv('covid_edited.csv')\n",
        "'''"
      ],
      "execution_count": 21,
      "outputs": [
        {
          "output_type": "execute_result",
          "data": {
            "application/vnd.google.colaboratory.intrinsic+json": {
              "type": "string"
            },
            "text/plain": [
              "'\\ndf = pd.read_csv(\"/content/covid.csv\")\\ndf = df[df.icu != 97.0]\\ndf.insert(6,\"symptomEntry_Delta\",0)\\n\\ndf.reset_index(drop=True)\\nfor a, b, i in zip(df.date_symptoms, df.entry_date,range(121913)):\\n  a = dt.date(2020, int(b[3:5]),int(b[:2])) - dt.date(2020, int(a[3:5]),int(a[:2]))\\n  df.iloc[i,df.columns.get_loc(\\'symptomEntry_Delta\\')] = a.days\\ndf.pop(\\'id\\')\\n\\ndf[\\'icu\\'].value_counts()\\ndf = df[df.icu != 99.0]\\ndf.reset_index(drop=True)\\ndf.to_csv(\\'covid_edited.csv\\')\\n'"
            ]
          },
          "metadata": {
            "tags": []
          },
          "execution_count": 21
        }
      ]
    },
    {
      "cell_type": "code",
      "metadata": {
        "id": "AlSbvNWI6r9U",
        "colab_type": "code",
        "colab": {}
      },
      "source": [
        "df = pd.read_csv('/content/covid_edited.csv')"
      ],
      "execution_count": 22,
      "outputs": []
    },
    {
      "cell_type": "code",
      "metadata": {
        "id": "jc0sHg8jNusY",
        "colab_type": "code",
        "colab": {}
      },
      "source": [
        "df.drop(columns=['date_symptoms', 'entry_date','date_died','patient_type','contact_other_covid'], inplace= True)"
      ],
      "execution_count": 38,
      "outputs": []
    },
    {
      "cell_type": "code",
      "metadata": {
        "id": "c8D50ytxbjh3",
        "colab_type": "code",
        "colab": {}
      },
      "source": [
        "df.drop(df.loc[df['diabetes']==98].index, inplace=True)\n",
        "df.drop(df.loc[df['inmsupr']==98].index, inplace=True)\n",
        "df.drop(df.loc[df['asthma']==98].index, inplace=True)\n",
        "df.drop(df.loc[df['copd']==98].index, inplace=True)\n",
        "df.drop(df.loc[df['hypertension']==98].index, inplace=True)\n",
        "df.drop(df.loc[df['other_disease']==98].index, inplace=True)\n",
        "df.drop(df.loc[df['obesity']==98].index, inplace=True)\n",
        "df.drop(df.loc[df['renal_chronic']==98].index, inplace=True)\n",
        "df.drop(df.loc[df['tobacco']==98].index, inplace=True)\n",
        "df.drop(df.loc[df['cardiovascular']==98].index, inplace=True)"
      ],
      "execution_count": 26,
      "outputs": []
    },
    {
      "cell_type": "code",
      "metadata": {
        "id": "EYx8DEEycDUc",
        "colab_type": "code",
        "colab": {}
      },
      "source": [
        "df.drop(df.columns[df.columns.str.contains('unnamed',case = False)],axis = 1, inplace = True)"
      ],
      "execution_count": 32,
      "outputs": []
    },
    {
      "cell_type": "code",
      "metadata": {
        "id": "YZlgLFbUwzKH",
        "colab_type": "code",
        "colab": {}
      },
      "source": [
        "df = df.reset_index(drop=True)"
      ],
      "execution_count": 40,
      "outputs": []
    },
    {
      "cell_type": "code",
      "metadata": {
        "id": "gS8Z39z9wmmJ",
        "colab_type": "code",
        "colab": {}
      },
      "source": [
        "df['covid_res'].value_counts()"
      ],
      "execution_count": null,
      "outputs": []
    },
    {
      "cell_type": "code",
      "metadata": {
        "id": "RjZ5DoYNxUZ4",
        "colab_type": "code",
        "colab": {}
      },
      "source": [
        "df.to_csv('covid_modelReady.csv')"
      ],
      "execution_count": 42,
      "outputs": []
    },
    {
      "cell_type": "code",
      "metadata": {
        "id": "b-n51mipcOLR",
        "colab_type": "code",
        "colab": {}
      },
      "source": [
        "feature_columns = []\n",
        "\n",
        "# numeric cols\n",
        "for header in ['sex', 'symptonEntry_Delta', 'intubed','pneumonia','age','diabetes','copd','asthma','imsupr','hypertension','other_disease','cardiovascular','renal_chronic','tobacco','']:\n",
        "  feature_columns.append(feature_column.numeric_column(header))"
      ],
      "execution_count": null,
      "outputs": []
    }
  ]
}
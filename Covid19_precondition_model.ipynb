{
  "nbformat": 4,
  "nbformat_minor": 0,
  "metadata": {
    "colab": {
      "name": "Covid19 precondition model",
      "provenance": [],
      "collapsed_sections": [],
      "authorship_tag": "ABX9TyMedjGVvM6i6ie98GSybWoN",
      "include_colab_link": true
    },
    "kernelspec": {
      "name": "python3",
      "display_name": "Python 3"
    }
  },
  "cells": [
    {
      "cell_type": "markdown",
      "metadata": {
        "id": "view-in-github",
        "colab_type": "text"
      },
      "source": [
        "<a href=\"https://colab.research.google.com/github/AndAmir/Covid19-model-colab/blob/master/Covid19_precondition_model.ipynb\" target=\"_parent\"><img src=\"https://colab.research.google.com/assets/colab-badge.svg\" alt=\"Open In Colab\"/></a>"
      ]
    },
    {
      "cell_type": "code",
      "metadata": {
        "id": "555R5idovO-j",
        "colab_type": "code",
        "colab": {}
      },
      "source": [
        "#!pip install tensorflow-gpu\n",
        "#!pip install mlxtend==0.17.0"
      ],
      "execution_count": null,
      "outputs": []
    },
    {
      "cell_type": "code",
      "metadata": {
        "id": "yBq_JYcHLYOo",
        "colab_type": "code",
        "colab": {}
      },
      "source": [
        "import tensorflow as tf\n",
        "import pandas as pd\n",
        "import datetime as dt\n",
        "import numpy as np\n",
        "\n",
        "from tensorflow import feature_column\n",
        "from tensorflow.keras import layers\n",
        "from sklearn.model_selection import train_test_split"
      ],
      "execution_count": null,
      "outputs": []
    },
    {
      "cell_type": "markdown",
      "metadata": {
        "id": "bDgrZ0Lifs9g",
        "colab_type": "text"
      },
      "source": [
        "#Eleminating NaN/Unknown Values\n",
        "###Currently replaceing these values(with for example the median value) is not needed due to having such a large dataset, and doing so can sqew results."
      ]
    },
    {
      "cell_type": "code",
      "metadata": {
        "id": "b0hy96H1LXRy",
        "colab_type": "code",
        "colab": {}
      },
      "source": [
        "'''\n",
        "This code was put into one cell to improve readability and focus to more important cells\n",
        "df = pd.read_csv(\"/content/covid.csv\")\n",
        "df = df[df.icu != 97.0]\n",
        "df.insert(6,\"symptomEntry_Delta\",0)\n",
        "\n",
        "df.reset_index(drop=True)\n",
        "for a, b, i in zip(df.date_symptoms, df.entry_date,range(121913#size of dataset Should have used df.size)):\n",
        "  a = dt.date(2020, int(b[3:5]),int(b[:2])) - dt.date(2020, int(a[3:5]),int(a[:2]))\n",
        "  df.iloc[i,df.columns.get_loc('symptomEntry_Delta')] = a.days\n",
        "df.pop('id')\n",
        "\n",
        "df['icu'].value_counts()\n",
        "df = df[df.icu != 99.0]\n",
        "df.reset_index(drop=True)\n",
        "df.to_csv('covid_edited.csv')\n",
        "\n",
        "df = pd.read_csv('/content/covid_edited.csv')\n",
        "df.drop(columns=['date_symptoms', 'entry_date','date_died','patient_type','contact_other_covid'], inplace= True)\n",
        "\n",
        "df.drop(df.loc[df['diabetes']==98].index, inplace=True)\n",
        "df.drop(df.loc[df['inmsupr']==98].index, inplace=True)\n",
        "df.drop(df.loc[df['asthma']==98].index, inplace=True)\n",
        "df.drop(df.loc[df['copd']==98].index, inplace=True)\n",
        "df.drop(df.loc[df['hypertension']==98].index, inplace=True)\n",
        "df.drop(df.loc[df['other_disease']==98].index, inplace=True)\n",
        "df.drop(df.loc[df['obesity']==98].index, inplace=True)\n",
        "df.drop(df.loc[df['renal_chronic']==98].index, inplace=True)\n",
        "df.drop(df.loc[df['tobacco']==98].index, inplace=True)\n",
        "df.drop(df.loc[df['cardiovascular']==98].index, inplace=True)\n",
        "\n",
        "df.drop(df.columns[df.columns.str.contains('unnamed',case = False)],axis = 1, inplace = True)\n",
        "df = df.reset_index(drop=True)\n",
        "df.to_csv('covid_modelReady.csv')\n",
        "'''"
      ],
      "execution_count": null,
      "outputs": []
    },
    {
      "cell_type": "code",
      "metadata": {
        "id": "AlSbvNWI6r9U",
        "colab_type": "code",
        "colab": {}
      },
      "source": [
        "df = pd.read_csv('/content/covid_modelReady.csv')\n",
        "df.drop(df.columns[df.columns.str.contains('unnamed',case = False)],axis = 1, inplace = True)"
      ],
      "execution_count": null,
      "outputs": []
    },
    {
      "cell_type": "markdown",
      "metadata": {
        "id": "odmsyP4AfBZ2",
        "colab_type": "text"
      },
      "source": [
        "#Columns of Interest\n"
      ]
    },
    {
      "cell_type": "code",
      "metadata": {
        "id": "b-n51mipcOLR",
        "colab_type": "code",
        "colab": {}
      },
      "source": [
        "feature_columns = []\n",
        "\n",
        "# numeric cols\n",
        "for header in ['sex', 'symptomEntry_Delta', 'intubed','pneumonia','age','diabetes','copd','asthma','imsupr','hypertension','other_disease','cardiovascular','renal_chronic','tobacco']:\n",
        "  feature_columns.append(feature_column.numeric_column(header))"
      ],
      "execution_count": null,
      "outputs": []
    },
    {
      "cell_type": "markdown",
      "metadata": {
        "id": "EWARyrJLhHhI",
        "colab_type": "text"
      },
      "source": [
        "#Bucketized Columns: \n",
        "age, symptomEntry_Delta "
      ]
    },
    {
      "cell_type": "code",
      "metadata": {
        "id": "c1dFVRq3w16x",
        "colab_type": "code",
        "colab": {
          "base_uri": "https://localhost:8080/",
          "height": 611
        },
        "outputId": "befe2254-5b53-4ed8-8b17-531240ef2be3"
      },
      "source": [
        "df['age'].hist(bins=400,figsize=(10,10))"
      ],
      "execution_count": null,
      "outputs": [
        {
          "output_type": "execute_result",
          "data": {
            "text/plain": [
              "<matplotlib.axes._subplots.AxesSubplot at 0x7f1800b8b438>"
            ]
          },
          "metadata": {
            "tags": []
          },
          "execution_count": 51
        },
        {
          "output_type": "display_data",
          "data": {
            "image/png": "[encoded data removed]",
            "text/plain": [
              "<Figure size 720x720 with 1 Axes>"
            ]
          },
          "metadata": {
            "tags": [],
            "needs_background": "light"
          }
        }
      ]
    },
    {
      "cell_type": "code",
      "metadata": {
        "id": "qx-Nr8K6wUqS",
        "colab_type": "code",
        "colab": {}
      },
      "source": [
        "age = feature_column.numeric_column('age')\n",
        "age_buckets = feature_column.bucketized_column(age, boundaries=[0,5,10,15,20,25,30,35,40,45,50,55,60,65,70,75,80,90,100,120])\n",
        "feature_columns.append(age_buckets)"
      ],
      "execution_count": null,
      "outputs": []
    },
    {
      "cell_type": "code",
      "metadata": {
        "id": "p9H0Er-ZMFcR",
        "colab_type": "code",
        "colab": {
          "base_uri": "https://localhost:8080/",
          "height": 610
        },
        "outputId": "8876bbb9-f7eb-4cd1-9bc5-d5c9fa487d3d"
      },
      "source": [
        "df['symptomEntry_Delta'].plot.hist(bins=100,figsize=(10,10),xlim=(0,17),grid=True)"
      ],
      "execution_count": null,
      "outputs": [
        {
          "output_type": "execute_result",
          "data": {
            "text/plain": [
              "<matplotlib.axes._subplots.AxesSubplot at 0x7f18007b4748>"
            ]
          },
          "metadata": {
            "tags": []
          },
          "execution_count": 53
        },
        {
          "output_type": "display_data",
          "data": {
            "image/png": "[encoded data removed]",
            "text/plain": [
              "<Figure size 720x720 with 1 Axes>"
            ]
          },
          "metadata": {
            "tags": [],
            "needs_background": "light"
          }
        }
      ]
    },
    {
      "cell_type": "code",
      "metadata": {
        "id": "dpmlp5-hLmlo",
        "colab_type": "code",
        "colab": {}
      },
      "source": [
        "symptomEntryD = feature_column.numeric_column('symptomEntry_Delta')\n",
        "symptomEntryD_buckets = feature_column.bucketized_column(symptomEntryD, boundaries=[0,1,4,7,9,12,17])\n",
        "feature_columns.append(symptomEntryD_buckets)"
      ],
      "execution_count": null,
      "outputs": []
    },
    {
      "cell_type": "markdown",
      "metadata": {
        "id": "XHQwxjp-hSDT",
        "colab_type": "text"
      },
      "source": [
        "#One-hot encoding Columns: \n",
        "intubed,\tpneumonia, diabetes,\tcopd,\tasthma,\tinmsupr,\thypertension,\tother_disease,\tcardiovascular,\tobesity,\trenal_chronic,\ttobacco\n"
      ]
    },
    {
      "cell_type": "code",
      "metadata": {
        "id": "fYVT5SLy3YKm",
        "colab_type": "code",
        "colab": {}
      },
      "source": [
        "oneHotColumns = ['intubed', 'pneumonia', 'diabetes', 'copd', 'asthma', 'inmsupr', 'hypertension', 'other_disease', 'cardiovascular', 'obesity', 'renal_chronic', 'tobacco']"
      ],
      "execution_count": null,
      "outputs": []
    },
    {
      "cell_type": "code",
      "metadata": {
        "id": "jqSgCTGN3NC6",
        "colab_type": "code",
        "colab": {}
      },
      "source": [
        "for col_name in oneHotColumns: \n",
        "  categorical_column = feature_column.categorical_column_with_vocabulary_list(col_name, df[col_name].unique())\n",
        "  indicator_column = feature_column.indicator_column(categorical_column)\n",
        "  feature_columns.append(indicator_column)"
      ],
      "execution_count": null,
      "outputs": []
    },
    {
      "cell_type": "code",
      "metadata": {
        "id": "vM254xVPnYwZ",
        "colab_type": "code",
        "colab": {}
      },
      "source": [
        "# A utility method to create a tf.data dataset from a Pandas Dataframe\n",
        "def df_to_dataset(dataframe, shuffle=True, batch_size=32):\n",
        "  dataframe = dataframe.copy()\n",
        "  labels = dataframe.pop('icu')\n",
        "  ds = tf.data.Dataset.from_tensor_slices((dict(dataframe), labels))\n",
        "  if shuffle:\n",
        "    ds = ds.shuffle(buffer_size=len(dataframe))\n",
        "  ds = ds.batch(batch_size)\n",
        "  return ds"
      ],
      "execution_count": null,
      "outputs": []
    },
    {
      "cell_type": "code",
      "metadata": {
        "id": "WQlfE2ayngNV",
        "colab_type": "code",
        "colab": {}
      },
      "source": [
        "train, test = train_test_split(df, test_size=0.2)\n",
        "train, val = train_test_split(train, test_size=0.2)"
      ],
      "execution_count": null,
      "outputs": []
    },
    {
      "cell_type": "code",
      "metadata": {
        "id": "GMVG3sREnH1_",
        "colab_type": "code",
        "colab": {}
      },
      "source": [
        "batch_size = 32\n",
        "train_ds = df_to_dataset(train, batch_size=batch_size)\n",
        "val_ds = df_to_dataset(val, shuffle=False, batch_size=batch_size)\n",
        "test_ds = df_to_dataset(test, shuffle=False, batch_size=batch_size)"
      ],
      "execution_count": null,
      "outputs": []
    },
    {
      "cell_type": "code",
      "metadata": {
        "id": "DVdHrIR-oupk",
        "colab_type": "code",
        "colab": {}
      },
      "source": [
        "feature_layer = tf.keras.layers.DenseFeatures(feature_columns)"
      ],
      "execution_count": null,
      "outputs": []
    },
    {
      "cell_type": "code",
      "metadata": {
        "id": "SlJoyt7npytp",
        "colab_type": "code",
        "colab": {
          "base_uri": "https://localhost:8080/",
          "height": 72
        },
        "outputId": "18e61075-a55c-4873-9207-83bcdce63d52"
      },
      "source": [
        "df['icu'].value_counts()"
      ],
      "execution_count": null,
      "outputs": [
        {
          "output_type": "execute_result",
          "data": {
            "text/plain": [
              "2    110340\n",
              "1      9842\n",
              "Name: icu, dtype: int64"
            ]
          },
          "metadata": {
            "tags": []
          },
          "execution_count": 68
        }
      ]
    },
    {
      "cell_type": "code",
      "metadata": {
        "id": "lGxzmOWQnEmo",
        "colab_type": "code",
        "colab": {
          "base_uri": "https://localhost:8080/",
          "height": 528
        },
        "outputId": "c635ed9c-164a-45cc-c8a3-acb4c2af536d"
      },
      "source": [
        "model = tf.keras.Sequential([\n",
        "  feature_layer,\n",
        "  layers.Dense(128, activation='relu'),\n",
        "  layers.Dense(128, activation='relu'),\n",
        "  layers.Dropout(.1),\n",
        "  layers.Dense(1)\n",
        "])\n",
        "\n",
        "model.compile(optimizer='adam',\n",
        "              loss=tf.keras.losses.BinaryCrossentropy(from_logits=True),\n",
        "              metrics=['accuracy'])\n",
        "\n",
        "model.fit(train_ds,\n",
        "          validation_data=val_ds,\n",
        "          epochs=10)"
      ],
      "execution_count": null,
      "outputs": [
        {
          "output_type": "stream",
          "text": [
            "Epoch 1/10\n",
            "WARNING:tensorflow:Layers in a Sequential model should only have a single input tensor, but we receive a <class 'dict'> input: {'sex': <tf.Tensor 'ExpandDims_14:0' shape=(None, 1) dtype=int64>, 'symptomEntry_Delta': <tf.Tensor 'ExpandDims_15:0' shape=(None, 1) dtype=int64>, 'intubed': <tf.Tensor 'ExpandDims_8:0' shape=(None, 1) dtype=int64>, 'pneumonia': <tf.Tensor 'ExpandDims_11:0' shape=(None, 1) dtype=int64>, 'age': <tf.Tensor 'ExpandDims:0' shape=(None, 1) dtype=int64>, 'pregnancy': <tf.Tensor 'ExpandDims_12:0' shape=(None, 1) dtype=int64>, 'diabetes': <tf.Tensor 'ExpandDims_5:0' shape=(None, 1) dtype=int64>, 'copd': <tf.Tensor 'ExpandDims_3:0' shape=(None, 1) dtype=int64>, 'asthma': <tf.Tensor 'ExpandDims_1:0' shape=(None, 1) dtype=int64>, 'inmsupr': <tf.Tensor 'ExpandDims_7:0' shape=(None, 1) dtype=int64>, 'hypertension': <tf.Tensor 'ExpandDims_6:0' shape=(None, 1) dtype=int64>, 'other_disease': <tf.Tensor 'ExpandDims_10:0' shape=(None, 1) dtype=int64>, 'cardiovascular': <tf.Tensor 'ExpandDims_2:0' shape=(None, 1) dtype=int64>, 'obesity': <tf.Tensor 'ExpandDims_9:0' shape=(None, 1) dtype=int64>, 'renal_chronic': <tf.Tensor 'ExpandDims_13:0' shape=(None, 1) dtype=int64>, 'tobacco': <tf.Tensor 'ExpandDims_16:0' shape=(None, 1) dtype=int64>, 'covid_res': <tf.Tensor 'ExpandDims_4:0' shape=(None, 1) dtype=int64>}\n",
            "Consider rewriting this model with the Functional API.\n",
            "WARNING:tensorflow:Layers in a Sequential model should only have a single input tensor, but we receive a <class 'dict'> input: {'sex': <tf.Tensor 'ExpandDims_14:0' shape=(None, 1) dtype=int64>, 'symptomEntry_Delta': <tf.Tensor 'ExpandDims_15:0' shape=(None, 1) dtype=int64>, 'intubed': <tf.Tensor 'ExpandDims_8:0' shape=(None, 1) dtype=int64>, 'pneumonia': <tf.Tensor 'ExpandDims_11:0' shape=(None, 1) dtype=int64>, 'age': <tf.Tensor 'ExpandDims:0' shape=(None, 1) dtype=int64>, 'pregnancy': <tf.Tensor 'ExpandDims_12:0' shape=(None, 1) dtype=int64>, 'diabetes': <tf.Tensor 'ExpandDims_5:0' shape=(None, 1) dtype=int64>, 'copd': <tf.Tensor 'ExpandDims_3:0' shape=(None, 1) dtype=int64>, 'asthma': <tf.Tensor 'ExpandDims_1:0' shape=(None, 1) dtype=int64>, 'inmsupr': <tf.Tensor 'ExpandDims_7:0' shape=(None, 1) dtype=int64>, 'hypertension': <tf.Tensor 'ExpandDims_6:0' shape=(None, 1) dtype=int64>, 'other_disease': <tf.Tensor 'ExpandDims_10:0' shape=(None, 1) dtype=int64>, 'cardiovascular': <tf.Tensor 'ExpandDims_2:0' shape=(None, 1) dtype=int64>, 'obesity': <tf.Tensor 'ExpandDims_9:0' shape=(None, 1) dtype=int64>, 'renal_chronic': <tf.Tensor 'ExpandDims_13:0' shape=(None, 1) dtype=int64>, 'tobacco': <tf.Tensor 'ExpandDims_16:0' shape=(None, 1) dtype=int64>, 'covid_res': <tf.Tensor 'ExpandDims_4:0' shape=(None, 1) dtype=int64>}\n",
            "Consider rewriting this model with the Functional API.\n",
            "2397/2404 [============================>.] - ETA: 0s - loss: -2232006.0000 - accuracy: 0.0824WARNING:tensorflow:Layers in a Sequential model should only have a single input tensor, but we receive a <class 'dict'> input: {'sex': <tf.Tensor 'ExpandDims_14:0' shape=(None, 1) dtype=int64>, 'symptomEntry_Delta': <tf.Tensor 'ExpandDims_15:0' shape=(None, 1) dtype=int64>, 'intubed': <tf.Tensor 'ExpandDims_8:0' shape=(None, 1) dtype=int64>, 'pneumonia': <tf.Tensor 'ExpandDims_11:0' shape=(None, 1) dtype=int64>, 'age': <tf.Tensor 'ExpandDims:0' shape=(None, 1) dtype=int64>, 'pregnancy': <tf.Tensor 'ExpandDims_12:0' shape=(None, 1) dtype=int64>, 'diabetes': <tf.Tensor 'ExpandDims_5:0' shape=(None, 1) dtype=int64>, 'copd': <tf.Tensor 'ExpandDims_3:0' shape=(None, 1) dtype=int64>, 'asthma': <tf.Tensor 'ExpandDims_1:0' shape=(None, 1) dtype=int64>, 'inmsupr': <tf.Tensor 'ExpandDims_7:0' shape=(None, 1) dtype=int64>, 'hypertension': <tf.Tensor 'ExpandDims_6:0' shape=(None, 1) dtype=int64>, 'other_disease': <tf.Tensor 'ExpandDims_10:0' shape=(None, 1) dtype=int64>, 'cardiovascular': <tf.Tensor 'ExpandDims_2:0' shape=(None, 1) dtype=int64>, 'obesity': <tf.Tensor 'ExpandDims_9:0' shape=(None, 1) dtype=int64>, 'renal_chronic': <tf.Tensor 'ExpandDims_13:0' shape=(None, 1) dtype=int64>, 'tobacco': <tf.Tensor 'ExpandDims_16:0' shape=(None, 1) dtype=int64>, 'covid_res': <tf.Tensor 'ExpandDims_4:0' shape=(None, 1) dtype=int64>}\n",
            "Consider rewriting this model with the Functional API.\n",
            "2404/2404 [==============================] - 7s 3ms/step - loss: -2248689.2500 - accuracy: 0.0824 - val_loss: -8299995.0000 - val_accuracy: 0.0805\n",
            "Epoch 2/10\n",
            "2404/2404 [==============================] - 7s 3ms/step - loss: -24782640.0000 - accuracy: 0.0825 - val_loss: -47552920.0000 - val_accuracy: 0.0805\n",
            "Epoch 3/10\n",
            "2404/2404 [==============================] - 7s 3ms/step - loss: -83770256.0000 - accuracy: 0.0825 - val_loss: -128018512.0000 - val_accuracy: 0.0805\n",
            "Epoch 4/10\n",
            "2404/2404 [==============================] - 7s 3ms/step - loss: -188328352.0000 - accuracy: 0.0825 - val_loss: -258792368.0000 - val_accuracy: 0.0805\n",
            "Epoch 5/10\n",
            "2404/2404 [==============================] - 7s 3ms/step - loss: -347786304.0000 - accuracy: 0.0825 - val_loss: -449390368.0000 - val_accuracy: 0.0805\n",
            "Epoch 6/10\n",
            "2404/2404 [==============================] - 7s 3ms/step - loss: -571713216.0000 - accuracy: 0.0825 - val_loss: -709257408.0000 - val_accuracy: 0.0805\n",
            "Epoch 7/10\n",
            "2404/2404 [==============================] - 7s 3ms/step - loss: -869204160.0000 - accuracy: 0.0825 - val_loss: -1047259264.0000 - val_accuracy: 0.0805\n",
            "Epoch 8/10\n",
            "2404/2404 [==============================] - 7s 3ms/step - loss: -1249606400.0000 - accuracy: 0.0825 - val_loss: -1472839424.0000 - val_accuracy: 0.0805\n",
            "Epoch 9/10\n",
            "2404/2404 [==============================] - 7s 3ms/step - loss: -1721621760.0000 - accuracy: 0.0825 - val_loss: -1995004416.0000 - val_accuracy: 0.0805\n",
            "Epoch 10/10\n",
            "2404/2404 [==============================] - 8s 3ms/step - loss: -2294514432.0000 - accuracy: 0.0825 - val_loss: -2623112704.0000 - val_accuracy: 0.0805\n"
          ],
          "name": "stdout"
        },
        {
          "output_type": "execute_result",
          "data": {
            "text/plain": [
              "<tensorflow.python.keras.callbacks.History at 0x7f180052f978>"
            ]
          },
          "metadata": {
            "tags": []
          },
          "execution_count": 67
        }
      ]
    }
  ]
}